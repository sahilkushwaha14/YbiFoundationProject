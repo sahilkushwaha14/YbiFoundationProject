{
  "nbformat": 4,
  "nbformat_minor": 0,
  "metadata": {
    "colab": {
      "provenance": []
    },
    "kernelspec": {
      "name": "python3",
      "display_name": "Python 3"
    },
    "language_info": {
      "name": "python"
    }
  },
  "cells": [
    {
      "cell_type": "code",
      "execution_count": 15,
      "metadata": {
        "id": "n1CAEvMSCvsH"
      },
      "outputs": [],
      "source": [
        "#importing libraires\n",
        "\n",
        "import pandas as pd\n",
        "from sklearn.model_selection import train_test_split\n",
        "from sklearn.metrics import accuracy_score,confusion_matrix,classification_report\n",
        "from sklearn.preprocessing import LabelEncoder\n",
        "import numpy as np\n",
        "from sklearn.ensemble import RandomForestClassifier\n",
        "from scipy.stats import mode"
      ]
    },
    {
      "cell_type": "code",
      "source": [
        "# importing Dataset\n",
        "\n",
        "data = pd.read_csv('https://github.com/ybifoundation/Dataset/raw/main/MultipleDiseasePrediction.csv')\n"
      ],
      "metadata": {
        "id": "HhOd_6J_C4dt"
      },
      "execution_count": 16,
      "outputs": []
    },
    {
      "cell_type": "code",
      "source": [
        "# Converting prognosis column to numeric datatype using LabelEncoder\n",
        "\n",
        "encoder = LabelEncoder()\n",
        "data[\"prognosis\"] = encoder.fit_transform(data[\"prognosis\"])\n"
      ],
      "metadata": {
        "id": "Ylp0BZpaDUND"
      },
      "execution_count": 17,
      "outputs": []
    },
    {
      "cell_type": "code",
      "source": [
        "# Splitting the data into X and Y\n",
        "\n",
        "X = data.iloc[:,:-1]\n",
        "y = data.iloc[:, -1]\n",
        "X_train, X_test, y_train, y_test =train_test_split(X, y, test_size = 0.2, random_state = 24)"
      ],
      "metadata": {
        "id": "K6nxflIvEEZd"
      },
      "execution_count": 18,
      "outputs": []
    },
    {
      "cell_type": "code",
      "source": [
        "# Verify Shape\n",
        "\n",
        "print(f\"Train: {X_train.shape}, {y_train.shape}\")\n",
        "\n",
        "print(f\"Test: {X_test.shape}, {y_test.shape}\")"
      ],
      "metadata": {
        "colab": {
          "base_uri": "https://localhost:8080/"
        },
        "id": "SiV8B4XeVxtj",
        "outputId": "24cec26a-d010-4055-b2db-b2b47c728626"
      },
      "execution_count": 19,
      "outputs": [
        {
          "output_type": "stream",
          "name": "stdout",
          "text": [
            "Train: (3936, 132), (3936,)\n",
            "Test: (984, 132), (984,)\n"
          ]
        }
      ]
    },
    {
      "cell_type": "code",
      "source": [
        "# Selection of model\n",
        "rf_model = RandomForestClassifier(random_state=18)"
      ],
      "metadata": {
        "id": "bMIdCqHLENFL"
      },
      "execution_count": 20,
      "outputs": []
    },
    {
      "cell_type": "code",
      "source": [
        "# Train Model \n",
        "# Predict with model \n",
        "rf_model.fit(X_train.values, y_train)\n",
        "preds = rf_model.predict(X_test.values)\n",
        "\n",
        "print(f\"Accuracy on train data by Random Forest Classifier : {accuracy_score(y_train, rf_model.predict(X_train.values))*100}\")\n",
        " \n",
        "\n",
        "print(f\"Accuracy on test data by Random Forest Classifier : {accuracy_score(y_test, preds)*100}\")\n",
        " \n",
        "\n",
        "cf_matrix = confusion_matrix(y_test, preds)\n",
        "cf_matrix\n",
        "rf_preds = rf_model.predict(X_test.values)"
      ],
      "metadata": {
        "colab": {
          "base_uri": "https://localhost:8080/"
        },
        "id": "GJ0FX6LgWOzh",
        "outputId": "01553603-c3fe-427d-9d17-7218069e47c3"
      },
      "execution_count": 21,
      "outputs": [
        {
          "output_type": "stream",
          "name": "stdout",
          "text": [
            "Accuracy on train data by Random Forest Classifier : 100.0\n",
            "Accuracy on test data by Random Forest Classifier : 100.0\n"
          ]
        }
      ]
    },
    {
      "cell_type": "code",
      "source": [
        "y_pred=rf_model.predict(X_test.values)\n",
        "y_pred"
      ],
      "metadata": {
        "colab": {
          "base_uri": "https://localhost:8080/"
        },
        "id": "BX-ggyTgiHci",
        "outputId": "8530dc4f-e2cc-4bac-90c5-ef2ec9969f3f"
      },
      "execution_count": 22,
      "outputs": [
        {
          "output_type": "execute_result",
          "data": {
            "text/plain": [
              "array([ 7, 26, 11, 21, 40, 12, 14, 30,  0, 15, 17, 12, 20, 28,  7, 18,  2,\n",
              "       35, 28,  8,  0, 18,  8,  9,  9,  8, 10, 38, 13, 17, 15, 34, 36, 23,\n",
              "       15, 38,  7, 38,  8, 23,  6, 10, 33, 29, 11,  6, 24, 33,  1, 29,  7,\n",
              "        5, 31, 26, 23, 26,  0, 18, 14, 28, 12, 22,  0,  6,  5, 23, 20, 26,\n",
              "       18, 37,  5, 14,  2, 23, 32,  2, 15, 32, 37,  0,  1,  4, 32, 38,  6,\n",
              "        1, 25, 38, 30, 19, 32, 14, 11, 39,  7, 15, 40, 19, 13, 31, 19,  0,\n",
              "       11, 15, 27,  6, 18, 39,  7, 27,  6, 21, 35, 38,  6, 22, 11, 40, 19,\n",
              "       10, 12, 26, 10, 26, 34,  6, 35, 20,  8, 14, 17, 39,  6, 10, 11, 37,\n",
              "       30, 12,  8,  2,  5,  5, 14,  2, 13,  9, 30,  1, 30, 24, 36, 25, 37,\n",
              "       34, 13, 39, 11, 13,  4,  9,  3, 29, 35,  9,  7, 36,  6,  4, 36, 15,\n",
              "       30, 13, 31,  1,  9, 10, 17, 32, 16, 38, 32, 20,  6, 28, 19,  1, 14,\n",
              "       35, 35, 12,  1, 13,  4, 16, 19, 38, 31, 25, 16, 25, 31,  4, 21, 16,\n",
              "       31, 21, 24, 33, 35, 23,  9, 40, 11, 36, 10, 23,  7, 26, 27,  7,  0,\n",
              "       13, 26, 39, 12, 27, 16, 12, 36,  6, 17, 30,  7,  6, 14, 15,  6, 15,\n",
              "       16, 20, 34,  9, 18, 12, 13, 31, 29, 39, 17, 29, 20, 32,  0, 23, 12,\n",
              "       38, 26, 12,  4,  5, 15, 14, 21, 19, 19, 30,  6, 39,  6, 16,  8,  0,\n",
              "       30, 16, 30,  3, 11, 37,  5, 12,  6, 24, 25, 18,  5, 22, 17, 24,  6,\n",
              "       38, 28, 39, 30,  9, 29, 22, 30, 11, 14,  5, 20, 22, 23,  6, 10,  8,\n",
              "       32, 15,  7, 34, 10,  8,  5, 15, 27, 19, 15, 13, 11,  3, 18, 19, 27,\n",
              "       22, 33, 28, 16,  0,  4, 37, 36, 23,  8, 17,  0, 33, 13, 32, 19,  4,\n",
              "       33, 16, 21, 26, 33, 40, 13, 40, 22, 28, 27, 32, 26, 23, 27, 21, 23,\n",
              "       20,  9,  2,  2, 10, 13, 24, 25, 29, 39,  6, 13, 20, 23,  3,  8, 10,\n",
              "       24, 39, 28, 22, 31, 26, 20, 25, 40, 28, 16, 21, 22,  4, 22, 26,  0,\n",
              "       16, 21, 28, 10, 27, 26, 15, 20, 34, 13, 37,  7, 29, 27,  9, 18, 16,\n",
              "        7, 11, 36, 33, 40, 21, 34, 40, 39, 20,  5,  8, 34,  9, 12, 36, 39,\n",
              "        8, 31,  8, 33, 37, 22, 14, 28,  0,  3, 30, 30, 15, 20,  7, 32, 37,\n",
              "       20, 24,  8, 15, 25,  0, 16, 27, 28, 17,  0, 10, 28,  8, 25, 13, 21,\n",
              "       15, 18, 29, 25, 28,  3, 20, 37,  7, 10, 12, 31, 32,  8,  4, 34, 26,\n",
              "       31, 37,  3, 37,  1, 40, 31, 21,  6, 29, 37, 21, 26, 23, 35, 21, 33,\n",
              "        0, 20, 20, 10,  2,  6, 19, 25, 26, 19, 27,  5, 33, 23, 15,  1, 10,\n",
              "       16, 36, 38, 21,  8,  3,  2, 31, 18, 22, 17, 25,  4, 32, 17, 33,  0,\n",
              "       23, 29, 20,  0, 27, 19, 18, 37,  9, 12,  1, 31, 32, 24,  7, 38, 30,\n",
              "       12, 24, 14, 10, 32, 16,  3, 27, 35, 34, 26, 33, 13, 10, 34,  5,  5,\n",
              "       25, 33, 39, 22, 26, 33, 14, 34, 10, 20, 12,  3, 19, 34, 40, 19, 17,\n",
              "       34, 21,  0, 33, 24, 14, 36, 30,  4, 33,  3, 34, 14, 18, 23, 34, 19,\n",
              "        1, 34, 33,  6,  4, 17, 29, 23, 19, 37, 36, 17, 40,  1,  6, 18,  9,\n",
              "       28, 27, 24,  0, 13, 40, 40,  7,  0,  1,  5, 26, 15, 11,  5,  9, 31,\n",
              "       33, 22,  9, 34,  9, 28, 31, 36, 21, 14, 12,  0, 18, 19, 18, 40, 24,\n",
              "        7,  0,  1, 32, 27,  3, 16, 28,  6, 15, 15,  4, 34, 20, 24, 25,  1,\n",
              "        4, 13, 20, 38, 39, 29,  3, 37, 27,  2,  1,  5, 22, 25,  7, 27, 34,\n",
              "       19, 38, 30, 29, 18, 31,  0,  5, 25, 38, 10, 29, 11,  4, 36,  8, 32,\n",
              "       37, 19, 30, 26, 22,  5,  3, 36, 40,  8, 14, 14,  9, 24, 38, 19, 26,\n",
              "       39, 13,  4,  6, 13, 33,  4,  5, 13, 12,  0, 22, 26, 35, 38, 22, 30,\n",
              "       26, 20,  2, 16, 20,  0,  5, 14, 11, 30, 35, 38, 22, 34, 33, 16,  5,\n",
              "       10, 34, 16,  3, 38, 28, 22, 39, 37, 35, 33, 23, 38, 31, 33, 20, 23,\n",
              "       40, 29, 32, 38, 23, 13, 25,  8, 33,  9,  9, 36,  7,  8,  3,  0,  3,\n",
              "        2, 26, 32, 25,  0, 30, 31,  6,  5,  3,  3,  0, 35, 21,  2,  1, 31,\n",
              "       29,  7,  4,  1, 26, 10,  3, 25, 15,  3,  8, 39,  9, 32, 36, 40, 33,\n",
              "       24,  1,  5, 14, 15, 11, 40,  8, 16,  3, 33, 13, 37,  9, 22, 38, 38,\n",
              "       22, 28, 21,  8, 12,  2,  0, 17, 37, 27, 38,  8, 33, 10,  6, 35, 35,\n",
              "        1, 27, 17, 37,  3,  2, 19, 19, 30,  8, 25,  4, 29,  2, 40, 18, 36,\n",
              "       12,  5, 21,  6, 32,  4, 32, 17, 22, 34, 19, 11, 26, 25, 28, 21, 18,\n",
              "       31,  2,  6, 18, 19, 37,  7, 21, 21, 21, 20, 32, 38, 27,  5, 30, 15,\n",
              "       34, 28,  0,  7, 31, 22,  9, 10, 21, 20, 29, 16, 21, 31, 19, 20, 13,\n",
              "       17,  4, 30,  1,  2,  4, 26, 30, 34,  0,  2, 22,  4,  2,  7, 17, 22,\n",
              "       20, 32, 17,  6, 31, 31, 27, 20,  8, 10, 26, 15, 18, 26, 17, 39, 37,\n",
              "       26, 24,  8,  9, 21,  5, 40, 27, 24, 13, 36,  6, 24,  5, 17, 33, 23,\n",
              "       40, 13, 32, 16, 19, 21, 29, 24, 27, 35,  5, 18, 37, 38, 23])"
            ]
          },
          "metadata": {},
          "execution_count": 22
        }
      ]
    },
    {
      "cell_type": "code",
      "source": [
        "# Model Accuracy\n",
        "accuracy_score(y_test,y_pred)"
      ],
      "metadata": {
        "colab": {
          "base_uri": "https://localhost:8080/"
        },
        "id": "XKdCUq49E3lM",
        "outputId": "583f301e-c7e1-4361-f70f-3fec82e510c1"
      },
      "execution_count": 23,
      "outputs": [
        {
          "output_type": "execute_result",
          "data": {
            "text/plain": [
              "1.0"
            ]
          },
          "metadata": {},
          "execution_count": 23
        }
      ]
    },
    {
      "cell_type": "code",
      "source": [
        "# Model Confusion Matrix\n",
        "confusion_matrix(y_test,y_pred)"
      ],
      "metadata": {
        "colab": {
          "base_uri": "https://localhost:8080/"
        },
        "id": "_GD4-EtZE611",
        "outputId": "0b2d67e5-70b7-4ed7-f6cf-a83c3b608f9f"
      },
      "execution_count": 24,
      "outputs": [
        {
          "output_type": "execute_result",
          "data": {
            "text/plain": [
              "array([[32,  0,  0, ...,  0,  0,  0],\n",
              "       [ 0, 21,  0, ...,  0,  0,  0],\n",
              "       [ 0,  0, 20, ...,  0,  0,  0],\n",
              "       ...,\n",
              "       [ 0,  0,  0, ..., 26,  0,  0],\n",
              "       [ 0,  0,  0, ...,  0, 18,  0],\n",
              "       [ 0,  0,  0, ...,  0,  0, 22]])"
            ]
          },
          "metadata": {},
          "execution_count": 24
        }
      ]
    },
    {
      "cell_type": "code",
      "source": [
        "# model classification Report\n",
        "\n",
        "print(classification_report(y_test,y_pred,))"
      ],
      "metadata": {
        "colab": {
          "base_uri": "https://localhost:8080/"
        },
        "id": "oX9gXV2bFAZD",
        "outputId": "ab77297c-9a7a-49f7-8989-0a69b78ba544"
      },
      "execution_count": 25,
      "outputs": [
        {
          "output_type": "stream",
          "name": "stdout",
          "text": [
            "              precision    recall  f1-score   support\n",
            "\n",
            "           0       1.00      1.00      1.00        32\n",
            "           1       1.00      1.00      1.00        21\n",
            "           2       1.00      1.00      1.00        20\n",
            "           3       1.00      1.00      1.00        23\n",
            "           4       1.00      1.00      1.00        24\n",
            "           5       1.00      1.00      1.00        29\n",
            "           6       1.00      1.00      1.00        32\n",
            "           7       1.00      1.00      1.00        24\n",
            "           8       1.00      1.00      1.00        29\n",
            "           9       1.00      1.00      1.00        24\n",
            "          10       1.00      1.00      1.00        25\n",
            "          11       1.00      1.00      1.00        17\n",
            "          12       1.00      1.00      1.00        21\n",
            "          13       1.00      1.00      1.00        27\n",
            "          14       1.00      1.00      1.00        20\n",
            "          15       1.00      1.00      1.00        25\n",
            "          16       1.00      1.00      1.00        23\n",
            "          17       1.00      1.00      1.00        22\n",
            "          18       1.00      1.00      1.00        22\n",
            "          19       1.00      1.00      1.00        28\n",
            "          20       1.00      1.00      1.00        29\n",
            "          21       1.00      1.00      1.00        28\n",
            "          22       1.00      1.00      1.00        26\n",
            "          23       1.00      1.00      1.00        23\n",
            "          24       1.00      1.00      1.00        20\n",
            "          25       1.00      1.00      1.00        21\n",
            "          26       1.00      1.00      1.00        31\n",
            "          27       1.00      1.00      1.00        24\n",
            "          28       1.00      1.00      1.00        21\n",
            "          29       1.00      1.00      1.00        20\n",
            "          30       1.00      1.00      1.00        25\n",
            "          31       1.00      1.00      1.00        25\n",
            "          32       1.00      1.00      1.00        25\n",
            "          33       1.00      1.00      1.00        28\n",
            "          34       1.00      1.00      1.00        25\n",
            "          35       1.00      1.00      1.00        16\n",
            "          36       1.00      1.00      1.00        19\n",
            "          37       1.00      1.00      1.00        24\n",
            "          38       1.00      1.00      1.00        26\n",
            "          39       1.00      1.00      1.00        18\n",
            "          40       1.00      1.00      1.00        22\n",
            "\n",
            "    accuracy                           1.00       984\n",
            "   macro avg       1.00      1.00      1.00       984\n",
            "weighted avg       1.00      1.00      1.00       984\n",
            "\n"
          ]
        }
      ]
    },
    {
      "cell_type": "code",
      "source": [
        "# future Prediction by user input\n",
        "\n",
        "symptoms = X.columns.values\n",
        " \n",
        "# Creating a symptom index dictionary to encode the input symptoms into numerical form\n",
        "\n",
        "symptom_index = {}\n",
        "\n",
        "for index, value in enumerate(symptoms):\n",
        "\n",
        "    symptom = \" \".join([i.capitalize() for i in value.split(\"_\")])\n",
        "\n",
        "    symptom_index[symptom] = index\n",
        "data_dict = {\n",
        "    \"symptom_index\":symptom_index,\n",
        "    \"predictions_classes\":encoder.classes_\n",
        "}\n",
        " \n",
        "# Defining the Function\n",
        "# Input: string containing symptoms separated by commas\n",
        "# Output: Generated predictions by models\n",
        "\n",
        "def predictDisease(symptoms):\n",
        "    symptoms = symptoms.split(\",\")\n",
        "\n",
        "    # creating input data for the models\n",
        "\n",
        "    input_data = [0] * len(data_dict[\"symptom_index\"])\n",
        "\n",
        "    for symptom in symptoms:\n",
        "\n",
        "        index = data_dict[\"symptom_index\"][symptom]\n",
        "\n",
        "        input_data[index] = 1\n",
        "\n",
        "         \n",
        "\n",
        "    # reshaping the input data and converting it\n",
        "\n",
        "    # into suitable format for model predictions\n",
        "\n",
        "    input_data = np.array(input_data).reshape(1,-1)\n",
        "    rf_prediction = data_dict[\"predictions_classes\"][rf_model.predict(input_data)[0]]\n",
        "   \n",
        "\n",
        "    predictions = {\n",
        "\n",
        "        \"Predicted Disease is \": rf_prediction,\n",
        "\n",
        "\n",
        "    }\n",
        "\n",
        "    return predictions\n",
        " \n",
        "# Testing the function\n",
        "\n",
        "print(predictDisease(\"Itching,Skin Rash,Fatigue,Lethargy,High Fever,Headache\"))"
      ],
      "metadata": {
        "colab": {
          "base_uri": "https://localhost:8080/"
        },
        "id": "-nQETPZkFD82",
        "outputId": "3988cf77-5f93-4f14-a8eb-2499424e8673"
      },
      "execution_count": 26,
      "outputs": [
        {
          "output_type": "stream",
          "name": "stdout",
          "text": [
            "{'Predicted Disease is ': 'Chicken pox'}\n"
          ]
        }
      ]
    }
  ]
}